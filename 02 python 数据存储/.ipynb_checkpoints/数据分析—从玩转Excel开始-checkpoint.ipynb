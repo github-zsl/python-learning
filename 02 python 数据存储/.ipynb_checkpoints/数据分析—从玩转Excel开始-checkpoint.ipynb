{
 "cells": [
  {
   "cell_type": "markdown",
   "metadata": {},
   "source": [
    "# **<center>数据分析—从玩转Excel开始</center>**"
   ]
  },
  {
   "cell_type": "markdown",
   "metadata": {},
   "source": [
    "&ensp;&ensp;Excel作为Microsoft Office办公软件的组成部分，是日常工作当中使用最为广泛的电子表格软件之一。Excel在数据分析工作中起着至关重要的作用，是数据分析从业者使用频次最高的数据处理软件之一，数值的处理与计算、图表制作、简单数据分析以及企业日常业务报表的开发，这些都可以通过Excel轻松实现。因此，Excel既是数据分析的入门软件又是必备工具，必须要熟练掌握并运用。"
   ]
  },
  {
   "cell_type": "markdown",
   "metadata": {},
   "source": [
    "## 1. Excel中的常用小窍门"
   ]
  },
  {
   "cell_type": "markdown",
   "metadata": {},
   "source": [
    "参考学习了，微信公众号：凹凸数据，[34个常用Excel小技巧，助你玩转数据！](https://mp.weixin.qq.com/s/ANQQRhcV8mLvmh69oI5-LA)"
   ]
  },
  {
   "attachments": {
    "image.png": {
     "image/png": "[encoded data removed]"
    }
   },
   "cell_type": "markdown",
   "metadata": {},
   "source": [
    "### 1.1 单元格内强制换行\n",
    "在单元格中某个字符后按alt+回车键，即可强制把光标换到下一行中。\n",
    "![image.png](attachment:image.png)"
   ]
  },
  {
   "cell_type": "markdown",
   "metadata": {},
   "source": [
    "### 1.2锁定标题行\n",
    "\n",
    "选取第2行，视图 - 冻结窗格 - 冻结首行（或选取第2行 - 冻结窗格）冻结后再向下翻看时标题行始终显示在最上面。"
   ]
  },
  {
   "cell_type": "code",
   "execution_count": null,
   "metadata": {},
   "outputs": [],
   "source": []
  }
 ],
 "metadata": {
  "kernelspec": {
   "display_name": "Python 3",
   "language": "python",
   "name": "python3"
  },
  "language_info": {
   "codemirror_mode": {
    "name": "ipython",
    "version": 3
   },
   "file_extension": ".py",
   "mimetype": "text/x-python",
   "name": "python",
   "nbconvert_exporter": "python",
   "pygments_lexer": "ipython3",
   "version": "3.6.4"
  }
 },
 "nbformat": 4,
 "nbformat_minor": 2
}
