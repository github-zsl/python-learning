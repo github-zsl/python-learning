{
 "cells": [
  {
   "cell_type": "markdown",
   "metadata": {},
   "source": [
    "# <center>Python 数据类型</center>"
   ]
  },
  {
   "cell_type": "markdown",
   "metadata": {},
   "source": [
    "Python 3中有5种标准的对象类型：<br> \n",
    "- Number（数字）\n",
    "- String（字符串）\n",
    "- List（列表）\n",
    "- Tuple（元组)\n",
    "- **Dictionary(字典)**"
   ]
  },
  {
   "cell_type": "markdown",
   "metadata": {},
   "source": [
    "## 5  Dictionary(字典)"
   ]
  },
  {
   "cell_type": "markdown",
   "metadata": {},
   "source": [
    "一种通过名字引用值的数据结构，这种结构类型称为**映射（mapping）**。字典是Python中唯一内建的映射类型，字典指定值并没有特殊顺序，都存储在一个特殊的键（Key）里，键可以是数字、字符串或元组。字典是另一种**可变容器模型**，可存储任意类型的对象。"
   ]
  },
  {
   "cell_type": "markdown",
   "metadata": {},
   "source": [
    "### 5.1 认识字典的作用"
   ]
  },
  {
   "cell_type": "code",
   "execution_count": 3,
   "metadata": {},
   "outputs": [],
   "source": [
    "students = ['小明','小红','小张','王军']\n",
    "numbers = ['1001','1002','1003','1004']"
   ]
  },
  {
   "cell_type": "code",
   "execution_count": 4,
   "metadata": {},
   "outputs": [
    {
     "name": "stdout",
     "output_type": "stream",
     "text": [
      "小张的学号： 1003\n"
     ]
    }
   ],
   "source": [
    "# 假设需要查找小张的学号则需：\n",
    "print('小张的学号：',numbers[students.index('小张')])"
   ]
  },
  {
   "cell_type": "code",
   "execution_count": 14,
   "metadata": {},
   "outputs": [
    {
     "name": "stdout",
     "output_type": "stream",
     "text": [
      "小张的学号： 1003\n"
     ]
    }
   ],
   "source": [
    "students = {\n",
    "    '小明':  '1001',\n",
    "    '小红': '1002',\n",
    "    '小张': '1003',\n",
    "    '王军': '1004' \n",
    "}\n",
    "print('小张的学号：',students['小张']) # 通过键访问字典对应的值"
   ]
  },
  {
   "cell_type": "markdown",
   "metadata": {},
   "source": [
    "### 5.2 创建和使用字典"
   ]
  },
  {
   "cell_type": "markdown",
   "metadata": {},
   "source": [
    "字典的创建格式如下：\n",
    "    dict_one = {\n",
    "        key1: value1,\n",
    "        key2: value2\n",
    "    }"
   ]
  },
  {
   "cell_type": "markdown",
   "metadata": {},
   "source": [
    "#### 5.2.1 dict()函数"
   ]
  },
  {
   "cell_type": "code",
   "execution_count": 20,
   "metadata": {},
   "outputs": [
    {
     "name": "stdout",
     "output_type": "stream",
     "text": [
      "学生详细信息： {'name': '小明', 'number': '1001'}\n"
     ]
    }
   ],
   "source": [
    "student = [('name','小明'),('number','1001')]\n",
    "detail = dict(student)\n",
    "print('学生详细信息：', detail)"
   ]
  },
  {
   "cell_type": "markdown",
   "metadata": {},
   "source": [
    "#### 5.2.2 修改字典"
   ]
  },
  {
   "cell_type": "code",
   "execution_count": 25,
   "metadata": {},
   "outputs": [
    {
     "data": {
      "text/plain": [
       "'1004'"
      ]
     },
     "execution_count": 25,
     "metadata": {},
     "output_type": "execute_result"
    }
   ],
   "source": [
    "stu = {\n",
    "    '小明':  '1001',\n",
    "    '小红': '1002',\n",
    "    '小张': '1003',\n",
    "    '王军': '1004' \n",
    "}\n",
    "stu['王军']"
   ]
  },
  {
   "cell_type": "code",
   "execution_count": 27,
   "metadata": {},
   "outputs": [
    {
     "data": {
      "text/plain": [
       "'1005'"
      ]
     },
     "execution_count": 27,
     "metadata": {},
     "output_type": "execute_result"
    }
   ],
   "source": [
    "stu['王军'] = '1005'\n",
    "stu['王军']"
   ]
  },
  {
   "cell_type": "markdown",
   "metadata": {},
   "source": [
    "#### 5.2.3 删除字典"
   ]
  },
  {
   "cell_type": "code",
   "execution_count": 29,
   "metadata": {},
   "outputs": [
    {
     "name": "stdout",
     "output_type": "stream",
     "text": [
      "{'小明': '1001', '小红': '1002', '小张': '1003', '王军': '1004'}\n"
     ]
    }
   ],
   "source": [
    "stu = {\n",
    "    '小明':  '1001',\n",
    "    '小红': '1002',\n",
    "    '小张': '1003',\n",
    "    '王军': '1004' \n",
    "}\n",
    "print(stu)"
   ]
  },
  {
   "cell_type": "code",
   "execution_count": 30,
   "metadata": {},
   "outputs": [
    {
     "name": "stdout",
     "output_type": "stream",
     "text": [
      "{'小明': '1001', '小红': '1002', '小张': '1003'}\n"
     ]
    }
   ],
   "source": [
    "del stu['王军']\n",
    "print(stu)"
   ]
  },
  {
   "cell_type": "code",
   "execution_count": 31,
   "metadata": {},
   "outputs": [],
   "source": [
    "# 删除字典 del stu"
   ]
  },
  {
   "cell_type": "markdown",
   "metadata": {},
   "source": [
    "#### 5.2.4 字典的特性"
   ]
  },
  {
   "cell_type": "markdown",
   "metadata": {},
   "source": [
    " 字典值可以没有限制地取任何Python对象，既可以是标准对象，也可以是用户定义的对象，但键不行。需要记住以下两点：\n",
    " <br> （1）不允许同一个键出现两次。创建时如果同一个键被赋值两次，后面的值会被记住;\n",
    " <br> （2）键必须不可变，可以用数字、字符串或元组充当，不能用列表。"
   ]
  },
  {
   "cell_type": "markdown",
   "metadata": {},
   "source": [
    "#### 5.2.5 len()函数"
   ]
  },
  {
   "cell_type": "code",
   "execution_count": 32,
   "metadata": {},
   "outputs": [
    {
     "data": {
      "text/plain": [
       "4"
      ]
     },
     "execution_count": 32,
     "metadata": {},
     "output_type": "execute_result"
    }
   ],
   "source": [
    "stu = {\n",
    "    '小明':  '1001',\n",
    "    '小红': '1002',\n",
    "    '小张': '1003',\n",
    "    '王军': '1004' \n",
    "}\n",
    "len(stu) # 统计字典中键的总数"
   ]
  },
  {
   "cell_type": "code",
   "execution_count": 33,
   "metadata": {},
   "outputs": [
    {
     "data": {
      "text/plain": [
       "dict"
      ]
     },
     "execution_count": 33,
     "metadata": {},
     "output_type": "execute_result"
    }
   ],
   "source": [
    "type(stu)"
   ]
  },
  {
   "cell_type": "markdown",
   "metadata": {},
   "source": [
    "#### 5.2.6 字典的格式化字符串"
   ]
  },
  {
   "cell_type": "code",
   "execution_count": 40,
   "metadata": {},
   "outputs": [
    {
     "name": "stdout",
     "output_type": "stream",
     "text": [
      "小明的学号是：1001\n"
     ]
    }
   ],
   "source": [
    "stu = {\n",
    "    '小明':  '1001',\n",
    "    '小红': '1002',\n",
    "    '小张': '1003',\n",
    "    '王军': '1004' \n",
    "}\n",
    "print('小明的学号是：%(小明)s'  %stu)"
   ]
  },
  {
   "cell_type": "markdown",
   "metadata": {},
   "source": [
    "#### 5.2.7　字典和列表的区别"
   ]
  },
  {
   "cell_type": "markdown",
   "metadata": {},
   "source": [
    "**dict的特点是：**<br>\n",
    "（1）查找和插入的速度极快，不会随着key的增加而变慢。<br>\n",
    "（2）需要占用大量内存，内存浪费多。<br>\n",
    "**list的特点是：**<br>\n",
    "（1）查找和插入时间随着元素的增加而增加。<br>\n",
    "（2）占用空间小，浪费内存很少。所以，dict是使用空间换取时间。<br>\n",
    "**提　示：**dict内部存放的顺序和键放入的顺序没有关系。"
   ]
  },
  {
   "cell_type": "markdown",
   "metadata": {},
   "source": [
    "### 5.3 字典方法"
   ]
  },
  {
   "cell_type": "markdown",
   "metadata": {},
   "source": [
    "#### 5.3.1　clear()方法"
   ]
  },
  {
   "cell_type": "markdown",
   "metadata": {},
   "source": [
    "clear()方法用于删除字典内的所有项。clear()方法的语法如下：dict.clear()此语法中，dict代表指定字典，该方法不需要参数。该函数是一个原地操作（类似于list.sort）函数，没有任何返回值（返回值为None）。"
   ]
  },
  {
   "cell_type": "code",
   "execution_count": 24,
   "metadata": {},
   "outputs": [
    {
     "name": "stdout",
     "output_type": "stream",
     "text": [
      "字典中的元素个数为：0 \n"
     ]
    }
   ],
   "source": [
    "stu = {\n",
    "    '小明':  '1001',\n",
    "    '小红': '1002',\n",
    "    '小张': '1003',\n",
    "    '王军': '1004' \n",
    "}\n",
    "stu.clear()\n",
    "print(\"字典中的元素个数为：%d \" % len(stu))"
   ]
  },
  {
   "cell_type": "code",
   "execution_count": 36,
   "metadata": {},
   "outputs": [
    {
     "data": {
      "text/plain": [
       "{'age': 10}"
      ]
     },
     "execution_count": 36,
     "metadata": {},
     "output_type": "execute_result"
    }
   ],
   "source": [
    "x = {'age': 10}\n",
    "y = x\n",
    "x = {} #重新关联到另外一个字典,这对y没有影响\n",
    "y"
   ]
  },
  {
   "cell_type": "code",
   "execution_count": 35,
   "metadata": {},
   "outputs": [
    {
     "data": {
      "text/plain": [
       "{}"
      ]
     },
     "execution_count": 35,
     "metadata": {},
     "output_type": "execute_result"
    }
   ],
   "source": [
    "x = {'age': 10}\n",
    "y = x\n",
    "x.clear() #使用clear后，y的值也被清空\n",
    "y"
   ]
  },
  {
   "cell_type": "markdown",
   "metadata": {},
   "source": [
    "#### 5.3.2　copy()方法"
   ]
  },
  {
   "cell_type": "markdown",
   "metadata": {},
   "source": [
    "copy()方法返回一个具有相同键／值对的新字典。这个方法是浅复制（shallow copy），因为值本身是相同的，而不是副本。copy()方法的语法如下：dict.copy()此语法中，dict代表指定字典，该方法不需要参数。返回结果为一个字典的浅复制。"
   ]
  },
  {
   "cell_type": "code",
   "execution_count": 47,
   "metadata": {},
   "outputs": [
    {
     "name": "stdout",
     "output_type": "stream",
     "text": [
      "赋值后得到的st为 {'小明': '1001', '小红': '1002', '小张': '1003', '王军': '1004', 'info': ['小张', '1006', 'man']}\n"
     ]
    }
   ],
   "source": [
    "stu = {\n",
    "    '小明':  '1001',\n",
    "    '小红': '1002',\n",
    "    '小张': '1003',\n",
    "    '王军': '1004' ,\n",
    "    'info': ['小张','1006','man']\n",
    "}\n",
    "st = stu.copy()\n",
    "print(\"赋值后得到的st为\",st)"
   ]
  },
  {
   "cell_type": "code",
   "execution_count": 48,
   "metadata": {},
   "outputs": [
    {
     "name": "stdout",
     "output_type": "stream",
     "text": [
      "{'小明': '1001', '小红': '1002', '小张': '1003', '王军': 1005, 'info': ['小张', '1006', 'man']}\n",
      "{'小明': '1001', '小红': '1002', '小张': '1003', '王军': '1004', 'info': ['小张', '1006', 'man']}\n"
     ]
    }
   ],
   "source": [
    "st['王军'] = 1005  # 替换副本的值，原始字典不受影响\n",
    "print(st)\n",
    "print(stu)"
   ]
  },
  {
   "cell_type": "code",
   "execution_count": 49,
   "metadata": {},
   "outputs": [
    {
     "name": "stdout",
     "output_type": "stream",
     "text": [
      "{'小明': '1001', '小红': '1002', '小张': '1003', '王军': 1005, 'info': ['小张', '1006']}\n",
      "{'小明': '1001', '小红': '1002', '小张': '1003', '王军': '1004', 'info': ['小张', '1006']}\n"
     ]
    }
   ],
   "source": [
    "st['info'].remove('man')  # 修改了某个值，不是替换，原始字典也会受到影响\n",
    "print(st)\n",
    "print(stu)"
   ]
  },
  {
   "cell_type": "markdown",
   "metadata": {},
   "source": [
    "#### 5.3.3　fromkeys()方法"
   ]
  },
  {
   "cell_type": "markdown",
   "metadata": {},
   "source": [
    "   fromkeys()方法用于创建一个新字典。fromkeys()方法的语法如下：dict.fromkeys(seq[, value]))此语法中，dict代表指定字典；seq代表字典键值列表；value代表可选参数，设置键序列（seq）的值。该方法返回结果为列表。"
   ]
  },
  {
   "cell_type": "code",
   "execution_count": 50,
   "metadata": {},
   "outputs": [
    {
     "data": {
      "text/plain": [
       "{'age': None, 'name': None, 'sex': None, 'tel': None}"
      ]
     },
     "execution_count": 50,
     "metadata": {},
     "output_type": "execute_result"
    }
   ],
   "source": [
    "seq = ['name','age','sex','tel']  # 键值序列\n",
    "info = dict.fromkeys(seq)\n",
    "info"
   ]
  },
  {
   "cell_type": "markdown",
   "metadata": {},
   "source": [
    "#### 5.3.4　get()方法"
   ]
  },
  {
   "cell_type": "markdown",
   "metadata": {},
   "source": [
    "get()方法返回指定键的值，如果值不在字典中，就返回默认值。get()方法的语法如下：dict.get(key, default=None)此语法中，dict代表指定字典，key代表字典中要查找的键，default代表指定键的值不存在时返回默认值。该方法返回结果为指定键的值，如果值不在字典中，就返回默认值None。"
   ]
  },
  {
   "cell_type": "code",
   "execution_count": 1,
   "metadata": {},
   "outputs": [
    {
     "data": {
      "text/plain": [
       "'1001'"
      ]
     },
     "execution_count": 1,
     "metadata": {},
     "output_type": "execute_result"
    }
   ],
   "source": [
    "stu = {\n",
    "    '小明':  '1001',\n",
    "    '小红': '1002',\n",
    "    '小张': '1003',\n",
    "    '王军': '1004' ,\n",
    "    'info': ['小张','1006','man']\n",
    "}\n",
    "stu.get('小明')"
   ]
  },
  {
   "cell_type": "markdown",
   "metadata": {},
   "source": [
    "#### 5.3.5　key in dict方法"
   ]
  },
  {
   "cell_type": "markdown",
   "metadata": {},
   "source": [
    "Python字典in操作符用于判断键是否存在于字典中，如果键在字典dict中就返回true，否则返回false。该方法的语法如下：key in dict此语法中，dict代表指定字典，key代表要在字典中查找的键。如果键在字典里就返回true，否则返回false。"
   ]
  },
  {
   "cell_type": "code",
   "execution_count": 5,
   "metadata": {},
   "outputs": [
    {
     "data": {
      "text/plain": [
       "False"
      ]
     },
     "execution_count": 5,
     "metadata": {},
     "output_type": "execute_result"
    }
   ],
   "source": [
    "stu = {\n",
    "    '小明':  '1001',\n",
    "    '小红': '1002',\n",
    "    '小张': '1003',\n",
    "    '王军': '1004' ,\n",
    "    'info': ['小张','1006','man']\n",
    "}\n",
    "# 'info' in stu True\n",
    "'小强' in stu"
   ]
  },
  {
   "cell_type": "markdown",
   "metadata": {},
   "source": [
    "#### 5.3.6　items()方法"
   ]
  },
  {
   "cell_type": "markdown",
   "metadata": {},
   "source": [
    "items()方法以列表返回可遍历的（键／值）元组数组。items()方法的语法如下：dict.items()此语法中，dict代表指定字典，该方法不需要参数。返回结果为可遍历的（键／值）元组数组。"
   ]
  },
  {
   "cell_type": "code",
   "execution_count": 17,
   "metadata": {},
   "outputs": [
    {
     "name": "stdout",
     "output_type": "stream",
     "text": [
      "('小明', '1001')\n",
      "('小红', '1002')\n",
      "('小张', '1003')\n",
      "('王军', '1004')\n"
     ]
    }
   ],
   "source": [
    "stu = {\n",
    "    '小明':  '1001',\n",
    "    '小红': '1002',\n",
    "    '小张': '1003',\n",
    "    '王军': '1004' ,\n",
    "}\n",
    "for i in stu.items():\n",
    "    print(i)"
   ]
  },
  {
   "cell_type": "markdown",
   "metadata": {
    "slideshow": {
     "slide_type": "-"
    }
   },
   "source": [
    "#### 5.3.7　keys()方法"
   ]
  },
  {
   "cell_type": "markdown",
   "metadata": {},
   "source": [
    "keys()方法以列表返回一个字典的所有键。keys()方法的语法如下：dict.keys()此语法中，dict代表指定字典，该方法不需要参数。返回结果为一个字典的所有键。该方法使用示例如下："
   ]
  },
  {
   "cell_type": "code",
   "execution_count": 21,
   "metadata": {},
   "outputs": [
    {
     "name": "stdout",
     "output_type": "stream",
     "text": [
      "小明\n",
      "小红\n",
      "小张\n",
      "王军\n"
     ]
    }
   ],
   "source": [
    "stu = {\n",
    "    '小明':  '1001',\n",
    "    '小红': '1002',\n",
    "    '小张': '1003',\n",
    "    '王军': '1004' ,\n",
    "}\n",
    "for k in stu.keys():\n",
    "    print(k)"
   ]
  },
  {
   "cell_type": "markdown",
   "metadata": {},
   "source": [
    "#### 5.3.8　setdefault()方法"
   ]
  },
  {
   "cell_type": "markdown",
   "metadata": {},
   "source": [
    "setdefault()方法和get()方法类似，用于获得与给定键相关联的值。如果键不存在于字典中，就会添加键并将值设为默认值。setdefault()方法的语法如下：dict.setdefault(key, default=None)此语法中，dict代表指定字典，key代表查找的键值，default代表键不存在时设置的默认键值。该方法没有任何返回值。"
   ]
  },
  {
   "cell_type": "code",
   "execution_count": 26,
   "metadata": {},
   "outputs": [
    {
     "name": "stdout",
     "output_type": "stream",
     "text": [
      "None\n",
      "1001\n"
     ]
    }
   ],
   "source": [
    "stu = {\n",
    "    '小明':  '1001',\n",
    "    '小红': '1002',\n",
    "    '小张': '1003',\n",
    "    '王军': '1004' ,\n",
    "}\n",
    "print(stu.setdefault('小强'))\n",
    "print(stu.setdefault('小明'))"
   ]
  },
  {
   "cell_type": "markdown",
   "metadata": {},
   "source": [
    "#### 5.3.9　update()方法"
   ]
  },
  {
   "cell_type": "markdown",
   "metadata": {},
   "source": [
    "update()方法用于把字典dict2的键／值对更新到dict里。update()方法的语法如下：dict.update(dict2)此语法中，dict代表指定字典，dict2代表添加到指定字典dict里的字典。该方法没有任何返回值。"
   ]
  },
  {
   "cell_type": "code",
   "execution_count": 28,
   "metadata": {},
   "outputs": [
    {
     "data": {
      "text/plain": [
       "{'小张': '1003',\n",
       " '小文': '1004',\n",
       " '小明': '1001',\n",
       " '小李': '1005',\n",
       " '小熊': '1008',\n",
       " '小王': '1006',\n",
       " '小红': '1002',\n",
       " '小蓝': '1007'}"
      ]
     },
     "execution_count": 28,
     "metadata": {},
     "output_type": "execute_result"
    }
   ],
   "source": [
    "stu = {\n",
    "    '小明':  '1001',\n",
    "    '小红': '1002',\n",
    "    '小张': '1003',\n",
    "    '小文': '1004' ,\n",
    "}\n",
    "stu1 = {\n",
    "    '小李':  '1005',\n",
    "    '小王': '1006',\n",
    "    '小蓝': '1007',\n",
    "    '小熊': '1008' ,\n",
    "}\n",
    "stu.update(stu1)\n",
    "stu"
   ]
  },
  {
   "cell_type": "markdown",
   "metadata": {},
   "source": [
    "#### 5.3.10　values()方法"
   ]
  },
  {
   "cell_type": "markdown",
   "metadata": {},
   "source": [
    "values()方法以列表形式返回字典中的所有值。与返回键的列表不同，返回的列表中可以包含重复的元素。values()方法的语法如下：dict.values()此语法中，dict代表指定字典，该方法不需要参数。返回结果为字典中的所有值。"
   ]
  },
  {
   "cell_type": "code",
   "execution_count": 30,
   "metadata": {},
   "outputs": [
    {
     "name": "stdout",
     "output_type": "stream",
     "text": [
      "1001\n",
      "1002\n",
      "1003\n",
      "1004\n",
      "1005\n",
      "1006\n",
      "1007\n",
      "1008\n"
     ]
    }
   ],
   "source": [
    "for v in stu.values():\n",
    "    print(v)"
   ]
  },
  {
   "cell_type": "markdown",
   "metadata": {},
   "source": [
    "### 5.4 字典合并与排序"
   ]
  },
  {
   "cell_type": "markdown",
   "metadata": {},
   "source": [
    " 有两个字典，先将字典合并，完成后对合并的字典进行排序。大体思路：<br>\n",
    " - （1）借助字典的update函数将字典合并。\n",
    " - （2）准备一个将字典转化为列表的函数（知识点：字典转化为列表）。\n",
    " - （3）将转化后的列表进行排序（知识点：列表排序）。\n",
    " - （4）将排序好的列表转化为字典（知识点：列表转化为字典）。"
   ]
  },
  {
   "cell_type": "code",
   "execution_count": 57,
   "metadata": {},
   "outputs": [
    {
     "name": "stdout",
     "output_type": "stream",
     "text": [
      "合并的结果为：{'2性别': '男', '1姓名': '李白', '5外号': '诗仙', '4派系': '浪漫主义诗人', '3朝代': '唐朝', '6代表作': '《蜀道难》、《将进酒》'}\n",
      "按照第0个元素降序排列：{'6代表作': '《蜀道难》、《将进酒》', '5外号': '诗仙', '4派系': '浪漫主义诗人', '3朝代': '唐朝', '2性别': '男', '1姓名': '李白'}\n",
      "按照第0个元素升序排列：{'1姓名': '李白', '2性别': '男', '3朝代': '唐朝', '4派系': '浪漫主义诗人', '5外号': '诗仙', '6代表作': '《蜀道难》、《将进酒》'}\n"
     ]
    }
   ],
   "source": [
    "def dictTolist(dic:dict):\n",
    "    \"\"\"将字典转化为列表\"\"\"\n",
    "    keys = dic.keys()\n",
    "    values = dic.values()\n",
    "    lst = [(key,val) for key,val in zip(keys,values)]\n",
    "    return lst\n",
    "def merge_sort():\n",
    "    dict_one = {\"2性别\":\"男\",\"1姓名\":\"李白\",\"5外号\":\"诗仙\"}\n",
    "    dict_two = {\"4派系\":\"浪漫主义诗人\",\"3朝代\":\"唐朝\",\"6代表作\":\"《蜀道难》、《将进酒》\"}\n",
    "    dict_merge = dict()\n",
    "    dict_merge.update(dict_one)\n",
    "    dict_merge.update(dict_two)\n",
    "    desc_list = sorted(dictTolist(dict_merge),key=lambda x:x[0],reverse=True)\n",
    "    desc_dict = dict(desc_list)\n",
    "    \n",
    "    asc_list = sorted(dictTolist(dict_merge),key=lambda x:x[0],reverse=False)\n",
    "    asc_dict = dict(asc_list)\n",
    "    print(f'合并的结果为：{dict_merge}')\n",
    "    print(f'按照第0个元素降序排列：{desc_dict}')\n",
    "    print(f'按照第0个元素升序排列：{asc_dict}')\n",
    "    print\n",
    "merge_sort()"
   ]
  }
 ],
 "metadata": {
  "celltoolbar": "Slideshow",
  "kernelspec": {
   "display_name": "Python 3",
   "language": "python",
   "name": "python3"
  },
  "language_info": {
   "codemirror_mode": {
    "name": "ipython",
    "version": 3
   },
   "file_extension": ".py",
   "mimetype": "text/x-python",
   "name": "python",
   "nbconvert_exporter": "python",
   "pygments_lexer": "ipython3",
   "version": "3.6.4"
  }
 },
 "nbformat": 4,
 "nbformat_minor": 2
}
