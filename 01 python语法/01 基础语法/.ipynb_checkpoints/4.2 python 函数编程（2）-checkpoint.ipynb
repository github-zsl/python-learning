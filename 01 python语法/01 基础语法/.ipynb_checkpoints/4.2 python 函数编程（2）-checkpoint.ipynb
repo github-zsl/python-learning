{
 "cells": [
  {
   "cell_type": "markdown",
   "metadata": {},
   "source": [
    "# <center>函数</center>"
   ]
  },
  {
   "cell_type": "markdown",
   "metadata": {},
   "source": [
    "# 1. 返回函数"
   ]
  },
  {
   "cell_type": "markdown",
   "metadata": {},
   "source": [
    "函数可以有返回值，除了返回值外，函数中也可以返回函数。"
   ]
  },
  {
   "cell_type": "code",
   "execution_count": 4,
   "metadata": {},
   "outputs": [],
   "source": [
    "# 函数返回值\n",
    "def calc_sum(*args):\n",
    "    su = 0 \n",
    "    for n in args:\n",
    "        su += n\n",
    "    return su"
   ]
  },
  {
   "cell_type": "code",
   "execution_count": 5,
   "metadata": {},
   "outputs": [
    {
     "name": "stdout",
     "output_type": "stream",
     "text": [
      "10\n"
     ]
    }
   ],
   "source": [
    "print(calc_sum(1,2,3,4))"
   ]
  },
  {
   "cell_type": "code",
   "execution_count": 8,
   "metadata": {},
   "outputs": [],
   "source": [
    "# 函数返回函数\n",
    "def ret_sum(*args):\n",
    "    def calc_sum():\n",
    "        su = 0 \n",
    "        for n in args:\n",
    "            su += n\n",
    "        return su\n",
    "    return calc_sum"
   ]
  },
  {
   "cell_type": "code",
   "execution_count": 12,
   "metadata": {},
   "outputs": [
    {
     "data": {
      "text/plain": [
       "10"
      ]
     },
     "execution_count": 12,
     "metadata": {},
     "output_type": "execute_result"
    }
   ],
   "source": [
    "clc_sum = ret_sum(1,2,3,4)\n",
    "clc_sum()"
   ]
  },
  {
   "cell_type": "code",
   "execution_count": 14,
   "metadata": {},
   "outputs": [
    {
     "name": "stdout",
     "output_type": "stream",
     "text": [
      "False\n"
     ]
    }
   ],
   "source": [
    "f1 = ret_sum(1,2,3,4)\n",
    "f2 = ret_sum(1,2,3,4)\n",
    "print( f1 == f2)"
   ]
  },
  {
   "cell_type": "markdown",
   "metadata": {},
   "source": [
    "# 2. 递归函数"
   ]
  },
  {
   "cell_type": "markdown",
   "metadata": {},
   "source": [
    "&ensp;&ensp;&ensp;&ensp;如果一个函数在内部调用自身，这个函数就称作递归函数。递归函数的简单定义如下:\n",
    "```python\n",
    "  def recurision():\n",
    "    retrun recurision\n",
    "```"
   ]
  },
  {
   "cell_type": "code",
   "execution_count": 25,
   "metadata": {},
   "outputs": [],
   "source": [
    "# 简单的例子： 求5的阶乘\n",
    "\n",
    "def fun(n):\n",
    "    s = 1\n",
    "    if n != 1:\n",
    "        s = n * fun(n-1)\n",
    "    return s "
   ]
  },
  {
   "cell_type": "code",
   "execution_count": 32,
   "metadata": {},
   "outputs": [
    {
     "data": {
      "text/plain": [
       "120"
      ]
     },
     "execution_count": 32,
     "metadata": {},
     "output_type": "execute_result"
    }
   ],
   "source": [
    "fun(5)"
   ]
  },
  {
   "cell_type": "code",
   "execution_count": 30,
   "metadata": {},
   "outputs": [],
   "source": [
    "def fun(n):\n",
    "    if n == 1:\n",
    "        return 1\n",
    "    return n * fun(n-1)"
   ]
  },
  {
   "cell_type": "code",
   "execution_count": 33,
   "metadata": {},
   "outputs": [
    {
     "data": {
      "text/plain": [
       "120"
      ]
     },
     "execution_count": 33,
     "metadata": {},
     "output_type": "execute_result"
    }
   ],
   "source": [
    "fun(5)"
   ]
  },
  {
   "cell_type": "markdown",
   "metadata": {},
   "source": [
    "计算过程如下：\n",
    "fun(5)\n",
    "5 * fun(4)\n",
    "5 * (4 * fun(3))\n",
    "5 * (4 * (3 * fun(2)))\n",
    "5 * (4 * (3 * (2 * fun(1)))\n",
    "5 * (4 * (3 * (2 * 1)))\n",
    "5 * (4 * (3 * 2))\n",
    "5 * (4 * 6)\n",
    "5 * 24\n",
    "120"
   ]
  },
  {
   "cell_type": "markdown",
   "metadata": {},
   "source": [
    "# 3. filter()函数"
   ]
  },
  {
   "cell_type": "markdown",
   "metadata": {},
   "source": [
    "filter() 函数用于过滤序列，过滤掉不符合条件的元素，返回由符合条件元素组成的新列表。以下是 filter() 方法的语法: filter(function, iterable)\n",
    "- function -- 判断函数。\n",
    "- iterable -- 可迭代对象。"
   ]
  },
  {
   "cell_type": "code",
   "execution_count": 57,
   "metadata": {},
   "outputs": [
    {
     "name": "stdout",
     "output_type": "stream",
     "text": [
      "[1, 3, 5, 7, 9]\n"
     ]
    }
   ],
   "source": [
    "# 过滤出列表中的所有奇数：\n",
    "def is_odd(n):\n",
    "    return n % 2 == 1\n",
    " \n",
    "templist = filter(is_odd, [1, 2, 3, 4, 5, 6, 7, 8, 9, 10]) \n",
    "# python 3 返回的是迭代器对象，需要list转化一下：\n",
    "newlist = list(templist)\n",
    "print(newlist)"
   ]
  },
  {
   "cell_type": "markdown",
   "metadata": {},
   "source": [
    "item for item in filter是Python 3中filter函数的取值方式，因为从Python 3起，filter函数返回的对象从列表改为迭代器（filter object）。filter object支持迭代操作，比如for循环："
   ]
  },
  {
   "cell_type": "code",
   "execution_count": 76,
   "metadata": {},
   "outputs": [
    {
     "name": "stdout",
     "output_type": "stream",
     "text": [
      "[1, 4, 9, 16, 25, 36, 49, 64, 81, 100]\n"
     ]
    }
   ],
   "source": [
    "# 过滤出1~100中平方根是整数的数：\n",
    "import math\n",
    "def is_sqr(x):\n",
    "    return math.sqrt(x) % 1 == 0\n",
    "newlist= []\n",
    "for item in  filter(is_sqr, range(1, 101)):\n",
    "    newlist.append(item)\n",
    "print(newlist )"
   ]
  },
  {
   "cell_type": "markdown",
   "metadata": {},
   "source": [
    "# 4. 匿名函数"
   ]
  },
  {
   "cell_type": "markdown",
   "metadata": {},
   "source": [
    "匿名函数就是不再使用def语句这样的标准形式定义一个函数。Python使用lambda创建匿名函数。"
   ]
  },
  {
   "cell_type": "markdown",
   "metadata": {},
   "source": [
    "lambda函数的语法只包含一个语句，语句如下：lambda [arg1 [,arg2,.....argn]]:expression"
   ]
  },
  {
   "cell_type": "code",
   "execution_count": 35,
   "metadata": {},
   "outputs": [
    {
     "data": {
      "text/plain": [
       "3"
      ]
     },
     "execution_count": 35,
     "metadata": {},
     "output_type": "execute_result"
    }
   ],
   "source": [
    "def fun(x,y):\n",
    "    return x + y\n",
    "fun(1,2)"
   ]
  },
  {
   "cell_type": "code",
   "execution_count": 52,
   "metadata": {},
   "outputs": [
    {
     "data": {
      "text/plain": [
       "3"
      ]
     },
     "execution_count": 52,
     "metadata": {},
     "output_type": "execute_result"
    }
   ],
   "source": [
    "fun = lambda x,y : x+ y  \n",
    "fun(1,2)"
   ]
  },
  {
   "cell_type": "code",
   "execution_count": 82,
   "metadata": {},
   "outputs": [
    {
     "name": "stdout",
     "output_type": "stream",
     "text": [
      "[1, 3, 5, 7, 9]\n"
     ]
    }
   ],
   "source": [
    "# 过滤出列表中的所有奇数：\n",
    "newlist = []\n",
    "for item in  filter(lambda n : n % 2 ==1,[1, 2, 3, 4, 5, 6, 7, 8, 9, 10]):\n",
    "    newlist.append(item)\n",
    "print(newlist)"
   ]
  },
  {
   "cell_type": "code",
   "execution_count": 79,
   "metadata": {},
   "outputs": [
    {
     "name": "stdout",
     "output_type": "stream",
     "text": [
      "[1, 4, 9, 16, 25, 36, 49, 64, 81, 100]\n"
     ]
    }
   ],
   "source": [
    "# 过滤出1~100中平方根是整数的数：\n",
    "import math\n",
    "newlist = []\n",
    "for item in  filter(lambda x: math.sqrt(x) % 1 ==0 ,  range(1, 101)):\n",
    "     newlist.append(item)\n",
    "print(newlist )"
   ]
  },
  {
   "cell_type": "markdown",
   "metadata": {},
   "source": [
    "# 5. 偏函数"
   ]
  },
  {
   "cell_type": "markdown",
   "metadata": {},
   "source": [
    "偏函数是将所要承载的函数作为partial()函数的第一个参数，原函数的各个参数依次作为partial()函数的后续参数，除非使用关键字参数。"
   ]
  },
  {
   "cell_type": "code",
   "execution_count": 18,
   "metadata": {},
   "outputs": [
    {
     "data": {
      "text/plain": [
       "8"
      ]
     },
     "execution_count": 18,
     "metadata": {},
     "output_type": "execute_result"
    }
   ],
   "source": [
    "from functools import partial\n",
    "\n",
    "def add(m,n):\n",
    "    return m + n\n",
    "def sub(m,n):\n",
    "    return m - n \n",
    "def mult(m,n):\n",
    "    return m * n\n",
    "def div(m,n):\n",
    "    if n != 0:\n",
    "        return m /n\n",
    "    else:\n",
    "        print(\"除数不能为0\")\n",
    "        \n",
    "partial_fun = partial(add,6,2)\n",
    "# partial_fun = partial(sub,6,2)\n",
    "# partial_fun = partial(mult,6,2)\n",
    "# partial_fun = partial(div,6,2)\n",
    "partial_fun()"
   ]
  }
 ],
 "metadata": {
  "kernelspec": {
   "display_name": "Python 3",
   "language": "python",
   "name": "python3"
  },
  "language_info": {
   "codemirror_mode": {
    "name": "ipython",
    "version": 3
   },
   "file_extension": ".py",
   "mimetype": "text/x-python",
   "name": "python",
   "nbconvert_exporter": "python",
   "pygments_lexer": "ipython3",
   "version": "3.6.4"
  }
 },
 "nbformat": 4,
 "nbformat_minor": 2
}
