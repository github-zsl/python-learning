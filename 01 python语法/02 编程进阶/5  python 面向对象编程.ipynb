{
 "cells": [
  {
   "cell_type": "markdown",
   "metadata": {},
   "source": [
    "# <center> 面向对象</center>"
   ]
  },
  {
   "cell_type": "markdown",
   "metadata": {},
   "source": [
    "- Python是一门面向对象编程语言。\n",
    "- 面向对象编程是一种程序设计思想，把对象作为程序的基本单元，一个对象包含数据和操作数据的函数。\n",
    "- 在Python中，所有数据类型都被视为对象，也可以自定义对象。自定义对象数据类型就是面向对象中的类（Class）的概念。"
   ]
  },
  {
   "cell_type": "markdown",
   "metadata": {},
   "source": [
    "## 1. 面向对象常用术语"
   ]
  },
  {
   "cell_type": "markdown",
   "metadata": {},
   "source": [
    "- 类：用来描述具有相同属性和方法的对象的集合。类定义了集合中每个对象共有的属性和方法。\n",
    "- 对象：对象是类的实例。\n",
    "- 类变量（属性）：类变量在整个实例化的对象中是公用的。类变量定义在类中，且在方法之外。类变量通常不作为实例变量使用。类变量也称作属性。\n",
    "- 实例变量：定义在方法中的变量只作用于当前实例的类。\n",
    "- 数据成员：类变量或实例变量用于处理类及其实例对象的相关数据。\n",
    "- 方法重写：如果从父类继承的方法不能满足子类的需求，就可以对其进行改写，这个过程称为方法的覆盖（Override），也称为方法的重写。\n",
    "- 实例化（Instance）：创建一个类的实例、类的具体对象。\n",
    "- 方法：类中定义的函数。\n",
    "- 对象：通过类定义的数据结构实例。对象包括两个数据成员（类变量和实例变量）和方法。\n",
    "- 面向对象的三大特性：\n",
    "    - 多态（Polymorphism）：对不同类的对象使用同样的操作。\n",
    "    - 封装（Encapsulation）：对外部世界隐藏对象的工作细节。\n",
    "    - 继承（Inheritance）： 即一个派生类（derivedclass）继承基类（base class）的字段和方法。"
   ]
  },
  {
   "cell_type": "markdown",
   "metadata": {},
   "source": [
    "## 2. 类 "
   ]
  },
  {
   "cell_type": "markdown",
   "metadata": {},
   "source": [
    "### 2.1 类的定义和对象实例化"
   ]
  },
  {
   "cell_type": "markdown",
   "metadata": {},
   "source": [
    "     类用关键字 class 进行定义,定义一个类，通常要定义属性和方法。类在定义后，一般通过类实例化对象，然后通过对象访问类的属性和方法。"
   ]
  },
  {
   "cell_type": "code",
   "execution_count": 34,
   "metadata": {},
   "outputs": [
    {
     "name": "stdout",
     "output_type": "stream",
     "text": [
      "我的小狗名字为:小花,它喜欢汪汪汪的叫\n"
     ]
    }
   ],
   "source": [
    "class Dog(): # 定义了一个Dog类\n",
    "    name = \"小花\"           # 类的属性\n",
    "    def cry(self):    # 类中定义的方法\n",
    "        return \"汪汪汪\"\n",
    "    \n",
    "    \n",
    "dog = Dog()     # 实例化对象\n",
    "# 通过对象调用类的属性和方法。\n",
    "print(f\"我的小狗名字为:{dog.name},它喜欢{dog.cry()}的叫\")  "
   ]
  },
  {
   "cell_type": "markdown",
   "metadata": {},
   "source": [
    "###  2.2　类的构造方法"
   ]
  },
  {
   "cell_type": "markdown",
   "metadata": {},
   "source": [
    "在Python中，\\__init\\__()方法是一个特殊方法，在对象实例化时会被调用。\\__init\\__()的意思是初始化，是initialization的简写。这个方法也叫构造方法。在定义类时，若不显式地定义一个\\__init\\__()方法，则程序默认调用一个无参的\\__init\\__()方法。"
   ]
  },
  {
   "cell_type": "code",
   "execution_count": 61,
   "metadata": {},
   "outputs": [
    {
     "data": {
      "text/plain": [
       "'小花'"
      ]
     },
     "execution_count": 61,
     "metadata": {},
     "output_type": "execute_result"
    }
   ],
   "source": [
    "class Dog():  \n",
    "    name = \"小花\"\n",
    "    def __int__(self): # 不显示定义，默认调用该构造方法   \n",
    "        pass \n",
    "dog = Dog()\n",
    "dog.name"
   ]
  },
  {
   "cell_type": "code",
   "execution_count": 63,
   "metadata": {},
   "outputs": [
    {
     "name": "stdout",
     "output_type": "stream",
     "text": [
      "构造方法带一个参数：小花\n"
     ]
    }
   ],
   "source": [
    "class Dog():  \n",
    "    def __init__(self,name):         \n",
    "        self.name = name\n",
    "        print(f\"构造方法带一个参数：{self.name}\")\n",
    "dog = Dog(\"小花\")   "
   ]
  },
  {
   "cell_type": "code",
   "execution_count": 65,
   "metadata": {},
   "outputs": [
    {
     "name": "stdout",
     "output_type": "stream",
     "text": [
      "构造方法带两个参数：小花-2岁\n"
     ]
    }
   ],
   "source": [
    "class Dog():\n",
    "    def __init__(self,name,age):      \n",
    "        self.name = name\n",
    "        self.age = age\n",
    "        print(f\"构造方法带两个参数：{self.name}-{self.age}\")  \n",
    "dog = Dog(\"小花\",\"2岁\")\n"
   ]
  },
  {
   "cell_type": "markdown",
   "metadata": {},
   "source": [
    "###  2.3 类的访问权限"
   ]
  },
  {
   "cell_type": "markdown",
   "metadata": {},
   "source": [
    "类的访问权限在类内部有属性和方法，外部代码可以通过直接调用实例变量的方法操作数据，这样就隐藏了内部的复杂逻辑。"
   ]
  },
  {
   "cell_type": "code",
   "execution_count": 22,
   "metadata": {},
   "outputs": [
    {
     "name": "stdout",
     "output_type": "stream",
     "text": [
      "修改前的年龄：2岁\n",
      "姓名：小花\t 年龄：2岁\n",
      "姓名：小花\t 年龄：5岁\n"
     ]
    }
   ],
   "source": [
    "class Dog():\n",
    "    def __init__(self,name,age):      \n",
    "        self.name = name\n",
    "        self.age = age\n",
    "    def show_info(self):\n",
    "        print(f\"姓名：{self.name}\\t 年龄：{self.age}\")  \n",
    "dog = Dog(\"小花\",\"2岁\")\n",
    "print(f\"修改前的年龄：{dog.age}\")\n",
    "dog.show_info()\n",
    "dog.age = \"5岁\"\n",
    "dog.show_info()"
   ]
  },
  {
   "cell_type": "markdown",
   "metadata": {},
   "source": [
    "在类中定义的非构造方法可以调用类中构造方法实例变量的属性，调用的方式为self.实例变量属性名。可以在类的外部修改类的内部属性。如果要让内部属性不被外部访问，可以在属性名称前加两个下画线__，使实例变量变为就会变成私有变量（private），如果外部代码要获取类中的name和score，可以为类增加get_attrs和set_attrs方法，获取和修改类中的私有变量。"
   ]
  },
  {
   "cell_type": "code",
   "execution_count": 21,
   "metadata": {},
   "outputs": [
    {
     "name": "stdout",
     "output_type": "stream",
     "text": [
      "姓名：小花\t 年龄：2岁\n",
      "姓名：小花\t 年龄：5岁\n"
     ]
    }
   ],
   "source": [
    "class Dog():\n",
    "    def __init__(self,name,age):      \n",
    "        self.__name = name\n",
    "        self.__age = age\n",
    "    def set_name(self,name):\n",
    "        self.__name = name\n",
    "    def set_age(self,age):\n",
    "        self.__age = age\n",
    "    def get_name(self):\n",
    "        return self.__name\n",
    "    def get_age(self):\n",
    "        return self.__age\n",
    "    def show_info(self):\n",
    "        print(f\"姓名：{self.get_name()}\\t 年龄：{self.get_age()}\")  \n",
    "dog = Dog(\"小花\",\"2岁\")\n",
    "dog.show_info()\n",
    "dog.set_age(\"5岁\")  \n",
    "dog.show_info()"
   ]
  },
  {
   "cell_type": "markdown",
   "metadata": {},
   "source": [
    "## 3. 继承"
   ]
  },
  {
   "attachments": {
    "image.png": {
     "image/png": "[encoded data removed]"
    }
   },
   "cell_type": "markdown",
   "metadata": {},
   "source": [
    "![image.png](attachment:image.png)"
   ]
  },
  {
   "cell_type": "markdown",
   "metadata": {},
   "source": [
    "&ensp;&ensp;**继承**可以理解成类之间类型和子类型的关系。当我们定义一个class时，可以从某个现有的class继承，定义的新class称为子类（Subclass），而被继承的class称为基类、父类或超类（Base class、Super class）。如上图：Animal和Plant类都继承object类，Dog和Cat类继承Animal类，Tree和Flower类继承Plant类。\n",
    "<br>\n",
    "<br>\n",
    "在Python中，继承有以下特点：<br>\n",
    "- 在继承中，基类的构造方法（\\__init__()方法）不会被自动调用，需要在子类的构造方法中专门调用。\n",
    "- 在调用基类的方法时需要加上基类的类名前缀，并带上self参数变量。区别于在类中调用普通函数时不需要带self参数。\n",
    "- 在Python中，首先查找对应类型的方法，如果在子类中找不到对应的方法，才到基类中逐个查找。\n",
    "<br>\n",
    "<br>\n",
    "**需要注意：**继承语法class子类名（基类名）时，//基类名写在括号里，基本类是在定义类时，在元组中指明的。"
   ]
  },
  {
   "cell_type": "code",
   "execution_count": 2,
   "metadata": {},
   "outputs": [
    {
     "name": "stdout",
     "output_type": "stream",
     "text": [
      "动物在叫。\n",
      "动物在叫。\n"
     ]
    }
   ],
   "source": [
    "class Animal(object):\n",
    "    def cry(self):       \n",
    "        print(\"动物在叫。\")\n",
    "        \n",
    "class Dog(Animal):\n",
    "    pass\n",
    "class Cat(Animal):\n",
    "    pass\n",
    "\n",
    "dog = Dog()\n",
    "dog.cry()    # 子类直接继承父类的公有方法，如果cry()方法为__cry()私有方法，则不能继承。\n",
    "\n",
    "cat = Cat()\n",
    "cat.cry()"
   ]
  },
  {
   "cell_type": "code",
   "execution_count": 20,
   "metadata": {},
   "outputs": [
    {
     "ename": "AttributeError",
     "evalue": "'Dog' object has no attribute '__cry'",
     "output_type": "error",
     "traceback": [
      "\u001b[1;31m---------------------------------------------------------------------------\u001b[0m",
      "\u001b[1;31mAttributeError\u001b[0m                            Traceback (most recent call last)",
      "\u001b[1;32m<ipython-input-20-71a8dd49d0b3>\u001b[0m in \u001b[0;36m<module>\u001b[1;34m()\u001b[0m\n\u001b[0;32m      9\u001b[0m \u001b[1;33m\u001b[0m\u001b[0m\n\u001b[0;32m     10\u001b[0m \u001b[0mdog\u001b[0m \u001b[1;33m=\u001b[0m \u001b[0mDog\u001b[0m\u001b[1;33m(\u001b[0m\u001b[1;33m)\u001b[0m\u001b[1;33m\u001b[0m\u001b[0m\n\u001b[1;32m---> 11\u001b[1;33m \u001b[0mdog\u001b[0m\u001b[1;33m.\u001b[0m\u001b[0m__cry\u001b[0m\u001b[1;33m(\u001b[0m\u001b[1;33m)\u001b[0m    \u001b[1;31m#如果cry()方法为__cry()私有方法，则不能继承。\u001b[0m\u001b[1;33m\u001b[0m\u001b[0m\n\u001b[0m",
      "\u001b[1;31mAttributeError\u001b[0m: 'Dog' object has no attribute '__cry'"
     ]
    }
   ],
   "source": [
    "class Animal(object):\n",
    "    def __cry(self):       \n",
    "        print(\"动物在叫。\")\n",
    "        \n",
    "class Dog(Animal):\n",
    "    pass\n",
    "class Cat(Animal):\n",
    "    pass\n",
    "\n",
    "dog = Dog()\n",
    "dog.__cry()    #如果cry()方法为__cry()私有方法，则不能继承。"
   ]
  },
  {
   "cell_type": "markdown",
   "metadata": {},
   "source": [
    "## 4.多态"
   ]
  },
  {
   "cell_type": "markdown",
   "metadata": {},
   "source": [
    "继承可以帮助我们重复使用代码。但对于上面继承中的示例，无论是Dog还是Cat，调用父类的cry()方法时显示的都是“动物在叫。”，如果想让结果显示为“汪汪汪”和“喵喵喵”则需要对从父类继承的方法进行重写。"
   ]
  },
  {
   "cell_type": "code",
   "execution_count": 9,
   "metadata": {},
   "outputs": [
    {
     "name": "stdout",
     "output_type": "stream",
     "text": [
      "动物在叫。\n",
      "汪汪汪。\n",
      "小狗只吃狗粮。\n",
      "喵喵喵。\n",
      "小猫只吃猫粮。\n"
     ]
    }
   ],
   "source": [
    "class Animal(object):\n",
    "    def cry(self):       \n",
    "        print(\"动物在叫。\")\n",
    "        \n",
    "class Dog(Animal):\n",
    "    def cry(self):       # 子类对父类的方法进行重写\n",
    "        print(\"汪汪汪。\")\n",
    "    def eat(self):       #子类新增的方法\n",
    "        print(\"小狗只吃狗粮。\")\n",
    "            \n",
    "class Cat(Animal): \n",
    "    def cry(self):      # 子类对父类的方法进行重写\n",
    "        print(\"喵喵喵。\")\n",
    "    def eat(self):\n",
    "         print(\"小猫只吃猫粮。\")\n",
    "\n",
    "animal = Animal()\n",
    "animal.cry()\n",
    "            \n",
    "dog = Dog()\n",
    "dog.cry()\n",
    "dog.eat()\n",
    "\n",
    "cat = Cat()\n",
    "cat.cry()\n",
    "cat.eat()"
   ]
  },
  {
   "cell_type": "code",
   "execution_count": 13,
   "metadata": {},
   "outputs": [
    {
     "name": "stdout",
     "output_type": "stream",
     "text": [
      "dog 的类型为Dog吗：True\n",
      "dog 的类型为Animal吗：True\n"
     ]
    }
   ],
   "source": [
    "# 为了理解多态，请观察下面的结果。\n",
    "print(f\"dog 的类型为Dog吗：{isinstance(dog,Dog)}\")\n",
    "print(f\"dog 的类型为Animal吗：{isinstance(dog,Animal)}\")"
   ]
  },
  {
   "cell_type": "markdown",
   "metadata": {},
   "source": [
    "因为Dog是从Animal继承下来的，当我们创建Dog的实例dog时，我们认为dog的数据类型是Dog，但dog同时也是Animal，Dog本来就是Animal的一种。实际上，任何依赖Animal作为参数的函数或方法都可以不加修改地正常运行，原因就在于多态。如下面的例子，在定义cry_twice（）方法中，传入的参数为animal类型，想要具体到子类，不需要在改为dog或者cat，只需要传入相应类型的子类对象即可。"
   ]
  },
  {
   "cell_type": "code",
   "execution_count": 17,
   "metadata": {},
   "outputs": [
    {
     "name": "stdout",
     "output_type": "stream",
     "text": [
      "动物在叫。\n",
      "动物在叫。\n",
      "汪汪汪。\n",
      "汪汪汪。\n",
      "喵喵喵。\n",
      "喵喵喵。\n"
     ]
    }
   ],
   "source": [
    "def  cry_twice(animal):\n",
    "    animal.cry()\n",
    "    animal.cry()\n",
    "\n",
    "cry_twice(Animal())\n",
    "cry_twice(Dog())\n",
    "cry_twice(Cat())"
   ]
  },
  {
   "cell_type": "markdown",
   "metadata": {},
   "source": [
    "## 5. 封装"
   ]
  },
  {
   "cell_type": "markdown",
   "metadata": {},
   "source": [
    "封装并不等同于多态。多态可以让用户对不知道类（或对象类型）的对象进行方法调用，而封装可以不用关心对象是如何构建的，直接使用即可。"
   ]
  },
  {
   "cell_type": "code",
   "execution_count": 19,
   "metadata": {},
   "outputs": [
    {
     "name": "stdout",
     "output_type": "stream",
     "text": [
      "姓名：小花\t 年龄：2岁\n",
      "姓名：小花\t 年龄：5岁\n"
     ]
    }
   ],
   "source": [
    "class Dog():\n",
    "    def __init__(self,name,age):      \n",
    "        self.__name = name\n",
    "        self.__age = age\n",
    "    def set_name(self,name):\n",
    "        self.__name = name\n",
    "    def set_age(self,age):\n",
    "        self.__age = age\n",
    "    def get_name(self):\n",
    "        return self.__name\n",
    "    def get_age(self):\n",
    "        return self.__age\n",
    "    def show_info(self):\n",
    "        print(f\"姓名：{self.get_name()}\\t 年龄：{self.get_age()}\")  \n",
    "dog = Dog(\"小花\",\"2岁\")\n",
    "dog.show_info()\n",
    "dog.set_age(\"5岁\")  \n",
    "dog.show_info()"
   ]
  },
  {
   "cell_type": "markdown",
   "metadata": {},
   "source": [
    "&ensp;&ensp;每个实例都拥有各自的name和age数据。我们可以通过函数访问这些数据就没有必要从外面的函数访问，可以直接在Dog类内部定义访问数据的函数，这样就把“数据”封装起来了。这些封装数据的函数和Dog类本身是相关联的，我们称之为类的方法。这样一来，我们从外部看Dog类，只需要知道创建实例需要给出的name和age，如何输出是在Dog类的内部定义的，这些数据和逻辑被“封装”起来了，调用很容易，不用知道内部实现的细节。"
   ]
  },
  {
   "cell_type": "markdown",
   "metadata": {},
   "source": [
    "## 6. 多重继承"
   ]
  },
  {
   "cell_type": "markdown",
   "metadata": {},
   "source": [
    "**多重继承:**  一个子类就可以继承多个父类，同时获得多个父类的所有非私有功能。"
   ]
  },
  {
   "cell_type": "code",
   "execution_count": 28,
   "metadata": {},
   "outputs": [
    {
     "name": "stdout",
     "output_type": "stream",
     "text": [
      "每天都要走路。\n",
      "每天都要学习。\n"
     ]
    }
   ],
   "source": [
    "class People():\n",
    "    def run(self):\n",
    "        print(\"每天都要走路。\")\n",
    "        \n",
    "class Student():\n",
    "    def study(self):\n",
    "        print(\"每天都要学习。\")\n",
    "        \n",
    "class Senior(People,Student):\n",
    "    pass\n",
    "\n",
    "senoir = Senior()\n",
    "senoir.run()\n",
    "senoir.study()"
   ]
  },
  {
   "cell_type": "markdown",
   "metadata": {},
   "source": [
    "## 7. 获取对象信息"
   ]
  },
  {
   "cell_type": "markdown",
   "metadata": {},
   "source": [
    "### 7.1 type（）函数"
   ]
  },
  {
   "cell_type": "code",
   "execution_count": 38,
   "metadata": {},
   "outputs": [
    {
     "data": {
      "text/plain": [
       "int"
      ]
     },
     "execution_count": 38,
     "metadata": {},
     "output_type": "execute_result"
    }
   ],
   "source": [
    "type(123)"
   ]
  },
  {
   "cell_type": "code",
   "execution_count": 39,
   "metadata": {},
   "outputs": [
    {
     "data": {
      "text/plain": [
       "__main__.Dog"
      ]
     },
     "execution_count": 39,
     "metadata": {},
     "output_type": "execute_result"
    }
   ],
   "source": [
    "type(dog)"
   ]
  },
  {
   "cell_type": "code",
   "execution_count": 40,
   "metadata": {},
   "outputs": [
    {
     "data": {
      "text/plain": [
       "__main__.Senior"
      ]
     },
     "execution_count": 40,
     "metadata": {},
     "output_type": "execute_result"
    }
   ],
   "source": [
    "type(senoir)"
   ]
  },
  {
   "cell_type": "markdown",
   "metadata": {},
   "source": [
    "### 7.2 isinstance（）函数"
   ]
  },
  {
   "cell_type": "code",
   "execution_count": 45,
   "metadata": {},
   "outputs": [
    {
     "data": {
      "text/plain": [
       "True"
      ]
     },
     "execution_count": 45,
     "metadata": {},
     "output_type": "execute_result"
    }
   ],
   "source": [
    "isinstance(dog,Dog)"
   ]
  },
  {
   "cell_type": "code",
   "execution_count": 50,
   "metadata": {},
   "outputs": [
    {
     "data": {
      "text/plain": [
       "True"
      ]
     },
     "execution_count": 50,
     "metadata": {},
     "output_type": "execute_result"
    }
   ],
   "source": [
    "isinstance(senoir,Senior)"
   ]
  },
  {
   "cell_type": "code",
   "execution_count": 51,
   "metadata": {},
   "outputs": [
    {
     "data": {
      "text/plain": [
       "True"
      ]
     },
     "execution_count": 51,
     "metadata": {},
     "output_type": "execute_result"
    }
   ],
   "source": [
    "isinstance(senoir,Student)"
   ]
  },
  {
   "cell_type": "code",
   "execution_count": 52,
   "metadata": {},
   "outputs": [
    {
     "data": {
      "text/plain": [
       "True"
      ]
     },
     "execution_count": 52,
     "metadata": {},
     "output_type": "execute_result"
    }
   ],
   "source": [
    "isinstance(senoir,People)"
   ]
  },
  {
   "cell_type": "code",
   "execution_count": 54,
   "metadata": {},
   "outputs": [
    {
     "data": {
      "text/plain": [
       "True"
      ]
     },
     "execution_count": 54,
     "metadata": {},
     "output_type": "execute_result"
    }
   ],
   "source": [
    "isinstance(senoir,object)"
   ]
  },
  {
   "cell_type": "code",
   "execution_count": 55,
   "metadata": {},
   "outputs": [
    {
     "data": {
      "text/plain": [
       "False"
      ]
     },
     "execution_count": 55,
     "metadata": {},
     "output_type": "execute_result"
    }
   ],
   "source": [
    "isinstance(cat,Dog)"
   ]
  },
  {
   "cell_type": "markdown",
   "metadata": {},
   "source": [
    "### 7.3 dir()函数"
   ]
  },
  {
   "cell_type": "code",
   "execution_count": 56,
   "metadata": {},
   "outputs": [
    {
     "data": {
      "text/plain": [
       "['__class__',\n",
       " '__delattr__',\n",
       " '__dict__',\n",
       " '__dir__',\n",
       " '__doc__',\n",
       " '__eq__',\n",
       " '__format__',\n",
       " '__ge__',\n",
       " '__getattribute__',\n",
       " '__gt__',\n",
       " '__hash__',\n",
       " '__init__',\n",
       " '__init_subclass__',\n",
       " '__le__',\n",
       " '__lt__',\n",
       " '__module__',\n",
       " '__ne__',\n",
       " '__new__',\n",
       " '__reduce__',\n",
       " '__reduce_ex__',\n",
       " '__repr__',\n",
       " '__setattr__',\n",
       " '__sizeof__',\n",
       " '__str__',\n",
       " '__subclasshook__',\n",
       " '__weakref__',\n",
       " 'age',\n",
       " 'name',\n",
       " 'show_info']"
      ]
     },
     "execution_count": 56,
     "metadata": {},
     "output_type": "execute_result"
    }
   ],
   "source": [
    "dir(dog)  ##获取对象所有的属性和方法"
   ]
  },
  {
   "cell_type": "markdown",
   "metadata": {},
   "source": [
    "## 8. 类的专有方法"
   ]
  },
  {
   "cell_type": "markdown",
   "metadata": {},
   "source": [
    "### 8.1. \\__str__"
   ]
  },
  {
   "cell_type": "code",
   "execution_count": 65,
   "metadata": {},
   "outputs": [
    {
     "name": "stdout",
     "output_type": "stream",
     "text": [
      "<__main__.Student object at 0x000001844A42C390>\n"
     ]
    }
   ],
   "source": [
    "class Student(object):\n",
    "    def __init__(self,name):\n",
    "        self.name = name\n",
    "        \n",
    "print(Student('小明'))"
   ]
  },
  {
   "cell_type": "code",
   "execution_count": 68,
   "metadata": {},
   "outputs": [
    {
     "name": "stdout",
     "output_type": "stream",
     "text": [
      "学生名称：小明\n"
     ]
    }
   ],
   "source": [
    "class Student(object):\n",
    "    def __init__(self,name):\n",
    "        self.name = name\n",
    "    def __str__(self):\n",
    "        return f'学生名称：{self.name}'\n",
    "print(Student('小明'))"
   ]
  },
  {
   "cell_type": "markdown",
   "metadata": {},
   "source": [
    "### 8.2.\\__repr__"
   ]
  },
  {
   "cell_type": "code",
   "execution_count": 70,
   "metadata": {},
   "outputs": [
    {
     "data": {
      "text/plain": [
       "<__main__.Student at 0x18448ae3ef0>"
      ]
     },
     "execution_count": 70,
     "metadata": {},
     "output_type": "execute_result"
    }
   ],
   "source": [
    "class Student(object):\n",
    "    def __init__(self,name):\n",
    "        self.name = name\n",
    "    def __str__(self):\n",
    "        return f'学生名称：{self.name}'\n",
    "stu = Student('小明')\n",
    "stu"
   ]
  },
  {
   "cell_type": "code",
   "execution_count": 71,
   "metadata": {},
   "outputs": [
    {
     "data": {
      "text/plain": [
       "学生名称：小明"
      ]
     },
     "execution_count": 71,
     "metadata": {},
     "output_type": "execute_result"
    }
   ],
   "source": [
    "class Student(object):\n",
    "    def __init__(self,name):\n",
    "        self.name = name\n",
    "    def __str__(self):\n",
    "        return f'学生名称：{self.name}'\n",
    "    __repr__ = __str__\n",
    "stu = Student('小明')\n",
    "stu"
   ]
  },
  {
   "cell_type": "markdown",
   "metadata": {},
   "source": [
    "### 8.3. \\__iter__"
   ]
  },
  {
   "cell_type": "markdown",
   "metadata": {},
   "source": [
    "如果想将一个类用于for … in循环，类似list或tuple一样，就必须实现一个\\__iter\\__()方法。该方法返回一个迭代对象，Python的for循环会不断调用该迭代对象的\\__next__()方法，获得循环的下一个值，直到遇到StopIteration错误时退出循环。"
   ]
  },
  {
   "cell_type": "code",
   "execution_count": 77,
   "metadata": {},
   "outputs": [],
   "source": [
    "class Fib(object):\n",
    "    def __init__(self):\n",
    "        self.a, self.b = 0, 1 # 初始化：a和b\n",
    "    \n",
    "    def __iter__(self):\n",
    "        return self   # 实例本身就是迭代对象，故返回自己\n",
    "    \n",
    "    def __next__(self):\n",
    "        self.a, self.b = self.b, self.a + self. b # 计算下一个月的值\n",
    "        if self.a > 10000: #退出循环\n",
    "            raise StopIteration();\n",
    "        return self.a  # 返回下一个值"
   ]
  },
  {
   "cell_type": "code",
   "execution_count": 78,
   "metadata": {},
   "outputs": [
    {
     "name": "stdout",
     "output_type": "stream",
     "text": [
      "1\n",
      "1\n",
      "2\n",
      "3\n",
      "5\n",
      "8\n",
      "13\n",
      "21\n",
      "34\n",
      "55\n",
      "89\n",
      "144\n",
      "233\n",
      "377\n",
      "610\n",
      "987\n",
      "1597\n",
      "2584\n",
      "4181\n",
      "6765\n"
     ]
    }
   ],
   "source": [
    "for n in Fib():\n",
    "    print(n)"
   ]
  },
  {
   "cell_type": "markdown",
   "metadata": {},
   "source": [
    "### 8.4 \\__getitem__"
   ]
  },
  {
   "cell_type": "code",
   "execution_count": 79,
   "metadata": {},
   "outputs": [
    {
     "ename": "TypeError",
     "evalue": "'Fib' object does not support indexing",
     "output_type": "error",
     "traceback": [
      "\u001b[1;31m---------------------------------------------------------------------------\u001b[0m",
      "\u001b[1;31mTypeError\u001b[0m                                 Traceback (most recent call last)",
      "\u001b[1;32m<ipython-input-79-14290f619470>\u001b[0m in \u001b[0;36m<module>\u001b[1;34m()\u001b[0m\n\u001b[1;32m----> 1\u001b[1;33m \u001b[0mFib\u001b[0m\u001b[1;33m(\u001b[0m\u001b[1;33m)\u001b[0m\u001b[1;33m[\u001b[0m\u001b[1;36m5\u001b[0m\u001b[1;33m]\u001b[0m\u001b[1;33m\u001b[0m\u001b[0m\n\u001b[0m",
      "\u001b[1;31mTypeError\u001b[0m: 'Fib' object does not support indexing"
     ]
    }
   ],
   "source": [
    "Fib()[5]"
   ]
  },
  {
   "cell_type": "markdown",
   "metadata": {},
   "source": [
    "上面的实例，如果要取出第n个元素，直接Fib()[n],不可行。要像list一样按照下标取出元素,则需要实现\\__getitem__方法"
   ]
  },
  {
   "cell_type": "code",
   "execution_count": 90,
   "metadata": {},
   "outputs": [],
   "source": [
    "class Fib(object):\n",
    "    def __getitem__(self,n):\n",
    "        a, b = 1, 1\n",
    "        for x in range(n):\n",
    "            a, b = b, a+b\n",
    "        return a "
   ]
  },
  {
   "cell_type": "code",
   "execution_count": 91,
   "metadata": {},
   "outputs": [
    {
     "data": {
      "text/plain": [
       "8"
      ]
     },
     "execution_count": 91,
     "metadata": {},
     "output_type": "execute_result"
    }
   ],
   "source": [
    "fib = Fib()\n",
    "fib[5]"
   ]
  },
  {
   "cell_type": "markdown",
   "metadata": {},
   "source": [
    "### 8.5 \\__getattr__"
   ]
  },
  {
   "cell_type": "markdown",
   "metadata": {},
   "source": [
    "Python还提供了一种机制，就是写一个\\__getattr\\__()方法，动态返回一个不存在的属性。**注:** 只有在没有找到属性的情况下才调用\\__getattr\\__，已有的属性（如name）不会在\\__getattr\\__中查找。此外，如果所有调用都会返回None（如stu.abc），就是定义的\\__getattr\\__默认返回None。"
   ]
  },
  {
   "cell_type": "code",
   "execution_count": 93,
   "metadata": {},
   "outputs": [
    {
     "name": "stdout",
     "output_type": "stream",
     "text": [
      "小明\n",
      "90\n"
     ]
    }
   ],
   "source": [
    "class Student(object):\n",
    "    def __init__(self):\n",
    "        self.name = \"小明\"\n",
    "    \n",
    "    def __getattr__(self,attr):\n",
    "        if attr == \"score\":\n",
    "            return 90\n",
    "        \n",
    "stu = Student()\n",
    "print(stu.name)\n",
    "print(stu.score)"
   ]
  },
  {
   "cell_type": "markdown",
   "metadata": {},
   "source": [
    "### 8.6 \\__call__"
   ]
  },
  {
   "cell_type": "markdown",
   "metadata": {},
   "source": [
    "一般通通过对象名.方法名（）调用实例，但是，任何类，如果定义了一个\\__call\\__()方法，就可以直接对实例进行调用，就合函数调用差不多。"
   ]
  },
  {
   "cell_type": "code",
   "execution_count": 97,
   "metadata": {},
   "outputs": [
    {
     "name": "stdout",
     "output_type": "stream",
     "text": [
      "学生姓名：小明\n"
     ]
    }
   ],
   "source": [
    "class Student(object):\n",
    "    def __init__(self,name):\n",
    "        self.name =name\n",
    "    def __call__(self):\n",
    "        print(f\"学生姓名：{self.name}\")\n",
    "stu = Student( \"小明\")\n",
    "stu()  # 直接使用实例进行调用"
   ]
  },
  {
   "cell_type": "markdown",
   "metadata": {},
   "source": [
    "怎么判断一个变量是对象还是函数呢？ 通过callable()函数可以判断一个对象是否为“可调用”对象。"
   ]
  },
  {
   "cell_type": "code",
   "execution_count": 98,
   "metadata": {},
   "outputs": [
    {
     "data": {
      "text/plain": [
       "True"
      ]
     },
     "execution_count": 98,
     "metadata": {},
     "output_type": "execute_result"
    }
   ],
   "source": [
    "callable(stu)"
   ]
  },
  {
   "cell_type": "code",
   "execution_count": 99,
   "metadata": {},
   "outputs": [
    {
     "data": {
      "text/plain": [
       "True"
      ]
     },
     "execution_count": 99,
     "metadata": {},
     "output_type": "execute_result"
    }
   ],
   "source": [
    "callable(Student(\"小明\"))"
   ]
  },
  {
   "cell_type": "code",
   "execution_count": 100,
   "metadata": {},
   "outputs": [
    {
     "data": {
      "text/plain": [
       "True"
      ]
     },
     "execution_count": 100,
     "metadata": {},
     "output_type": "execute_result"
    }
   ],
   "source": [
    "callable(max)"
   ]
  },
  {
   "cell_type": "code",
   "execution_count": 101,
   "metadata": {},
   "outputs": [
    {
     "data": {
      "text/plain": [
       "True"
      ]
     },
     "execution_count": 101,
     "metadata": {},
     "output_type": "execute_result"
    }
   ],
   "source": [
    "callable(list)"
   ]
  },
  {
   "cell_type": "code",
   "execution_count": 102,
   "metadata": {},
   "outputs": [
    {
     "data": {
      "text/plain": [
       "False"
      ]
     },
     "execution_count": 102,
     "metadata": {},
     "output_type": "execute_result"
    }
   ],
   "source": [
    "callable([1,2,3,4])"
   ]
  },
  {
   "cell_type": "code",
   "execution_count": 103,
   "metadata": {},
   "outputs": [
    {
     "data": {
      "text/plain": [
       "False"
      ]
     },
     "execution_count": 103,
     "metadata": {},
     "output_type": "execute_result"
    }
   ],
   "source": [
    "callable(\"小明\")"
   ]
  }
 ],
 "metadata": {
  "kernelspec": {
   "display_name": "Python 3",
   "language": "python",
   "name": "python3"
  },
  "language_info": {
   "codemirror_mode": {
    "name": "ipython",
    "version": 3
   },
   "file_extension": ".py",
   "mimetype": "text/x-python",
   "name": "python",
   "nbconvert_exporter": "python",
   "pygments_lexer": "ipython3",
   "version": "3.6.4"
  }
 },
 "nbformat": 4,
 "nbformat_minor": 2
}
