{
 "cells": [
  {
   "cell_type": "markdown",
   "metadata": {},
   "source": [
    "# <center>Python 数据类型</center>"
   ]
  },
  {
   "cell_type": "markdown",
   "metadata": {},
   "source": [
    "Python 3中有6种标准的对象类型：<br> \n",
    "- **Number（数字）**\n",
    "- **String（字符串）**\n",
    "- ***List（列表）***\n",
    "- ***Tuple（元组)***\n",
    "- ***Sets（集合)***\n",
    "- **<u>Dictionary(字典)</u>**"
   ]
  },
  {
   "cell_type": "markdown",
   "metadata": {},
   "source": [
    "## 5  Dictionary(字典)"
   ]
  },
  {
   "cell_type": "markdown",
   "metadata": {},
   "source": [
    "一种通过名字引用值的数据结构，这种结构类型称为**映射（mapping）**。字典是Python中唯一内建的映射类型，字典指定值并没有特殊顺序，都存储在一个特殊的键（Key）里，键可以是数字、字符串或元组。字典是另一种**可变容器模型**，可存储任意类型的对象。"
   ]
  },
  {
   "cell_type": "markdown",
   "metadata": {},
   "source": [
    "### 5.1 认识字典的作用"
   ]
  },
  {
   "cell_type": "code",
   "execution_count": 3,
   "metadata": {},
   "outputs": [],
   "source": [
    "students = ['小明','小红','小张','王军']\n",
    "numbers = ['1001','1002','1003','1004']"
   ]
  },
  {
   "cell_type": "code",
   "execution_count": 4,
   "metadata": {},
   "outputs": [
    {
     "name": "stdout",
     "output_type": "stream",
     "text": [
      "小张的学号： 1003\n"
     ]
    }
   ],
   "source": [
    "# 假设需要查找小张的学号则需：\n",
    "print('小张的学号：',numbers[students.index('小张')])"
   ]
  },
  {
   "cell_type": "code",
   "execution_count": 14,
   "metadata": {},
   "outputs": [
    {
     "name": "stdout",
     "output_type": "stream",
     "text": [
      "小张的学号： 1003\n"
     ]
    }
   ],
   "source": [
    "students = {\n",
    "    '小明':  '1001',\n",
    "    '小红': '1002',\n",
    "    '小张': '1003',\n",
    "    '王军': '1004' \n",
    "}\n",
    "print('小张的学号：',students['小张']) # 通过键访问字典对应的值"
   ]
  },
  {
   "cell_type": "markdown",
   "metadata": {},
   "source": [
    "### 5.2 创建和使用字典"
   ]
  },
  {
   "cell_type": "markdown",
   "metadata": {},
   "source": [
    "字典的创建格式如下：\n",
    "    dict_one = {\n",
    "        key1: value1,\n",
    "        key2: value2\n",
    "    }"
   ]
  },
  {
   "cell_type": "markdown",
   "metadata": {},
   "source": [
    "#### 5.2.1 dict()函数"
   ]
  },
  {
   "cell_type": "code",
   "execution_count": 20,
   "metadata": {},
   "outputs": [
    {
     "name": "stdout",
     "output_type": "stream",
     "text": [
      "学生详细信息： {'name': '小明', 'number': '1001'}\n"
     ]
    }
   ],
   "source": [
    "student = [('name','小明'),('number','1001')]\n",
    "detail = dict(student)\n",
    "print('学生详细信息：', detail)"
   ]
  },
  {
   "cell_type": "markdown",
   "metadata": {},
   "source": [
    "#### 5.2.2 修改字典"
   ]
  },
  {
   "cell_type": "code",
   "execution_count": 25,
   "metadata": {},
   "outputs": [
    {
     "data": {
      "text/plain": [
       "'1004'"
      ]
     },
     "execution_count": 25,
     "metadata": {},
     "output_type": "execute_result"
    }
   ],
   "source": [
    "stu = {\n",
    "    '小明':  '1001',\n",
    "    '小红': '1002',\n",
    "    '小张': '1003',\n",
    "    '王军': '1004' \n",
    "}\n",
    "stu['王军']"
   ]
  },
  {
   "cell_type": "code",
   "execution_count": 27,
   "metadata": {},
   "outputs": [
    {
     "data": {
      "text/plain": [
       "'1005'"
      ]
     },
     "execution_count": 27,
     "metadata": {},
     "output_type": "execute_result"
    }
   ],
   "source": [
    "stu['王军'] = '1005'\n",
    "stu['王军']"
   ]
  },
  {
   "cell_type": "markdown",
   "metadata": {},
   "source": [
    "#### 5.2.3 删除字典"
   ]
  },
  {
   "cell_type": "code",
   "execution_count": 29,
   "metadata": {},
   "outputs": [
    {
     "name": "stdout",
     "output_type": "stream",
     "text": [
      "{'小明': '1001', '小红': '1002', '小张': '1003', '王军': '1004'}\n"
     ]
    }
   ],
   "source": [
    "stu = {\n",
    "    '小明':  '1001',\n",
    "    '小红': '1002',\n",
    "    '小张': '1003',\n",
    "    '王军': '1004' \n",
    "}\n",
    "print(stu)"
   ]
  },
  {
   "cell_type": "code",
   "execution_count": 30,
   "metadata": {},
   "outputs": [
    {
     "name": "stdout",
     "output_type": "stream",
     "text": [
      "{'小明': '1001', '小红': '1002', '小张': '1003'}\n"
     ]
    }
   ],
   "source": [
    "del stu['王军']\n",
    "print(stu)"
   ]
  },
  {
   "cell_type": "code",
   "execution_count": 31,
   "metadata": {},
   "outputs": [],
   "source": [
    "# 删除字典 del stu"
   ]
  },
  {
   "cell_type": "markdown",
   "metadata": {},
   "source": [
    "#### 5.2.4 字典的特性"
   ]
  },
  {
   "cell_type": "markdown",
   "metadata": {},
   "source": [
    " 字典值可以没有限制地取任何Python对象，既可以是标准对象，也可以是用户定义的对象，但键不行。需要记住以下两点：\n",
    " <br> （1）不允许同一个键出现两次。创建时如果同一个键被赋值两次，后面的值会被记住;\n",
    " <br> （2）键必须不可变，可以用数字、字符串或元组充当，不能用列表。"
   ]
  },
  {
   "cell_type": "markdown",
   "metadata": {},
   "source": [
    "#### 5.2.5 len()函数"
   ]
  },
  {
   "cell_type": "code",
   "execution_count": 32,
   "metadata": {},
   "outputs": [
    {
     "data": {
      "text/plain": [
       "4"
      ]
     },
     "execution_count": 32,
     "metadata": {},
     "output_type": "execute_result"
    }
   ],
   "source": [
    "stu = {\n",
    "    '小明':  '1001',\n",
    "    '小红': '1002',\n",
    "    '小张': '1003',\n",
    "    '王军': '1004' \n",
    "}\n",
    "len(stu) # 统计字典中键的总数"
   ]
  },
  {
   "cell_type": "code",
   "execution_count": 33,
   "metadata": {},
   "outputs": [
    {
     "data": {
      "text/plain": [
       "dict"
      ]
     },
     "execution_count": 33,
     "metadata": {},
     "output_type": "execute_result"
    }
   ],
   "source": [
    "type(stu)"
   ]
  },
  {
   "cell_type": "markdown",
   "metadata": {},
   "source": [
    "#### 5.2.6 字典的格式化字符串"
   ]
  },
  {
   "cell_type": "code",
   "execution_count": 40,
   "metadata": {},
   "outputs": [
    {
     "name": "stdout",
     "output_type": "stream",
     "text": [
      "小明的学号是：1001\n"
     ]
    }
   ],
   "source": [
    "stu = {\n",
    "    '小明':  '1001',\n",
    "    '小红': '1002',\n",
    "    '小张': '1003',\n",
    "    '王军': '1004' \n",
    "}\n",
    "print('小明的学号是：%(小明)s'  %stu)"
   ]
  },
  {
   "cell_type": "markdown",
   "metadata": {},
   "source": [
    "#### 5.2.7　字典和列表的区别"
   ]
  },
  {
   "cell_type": "markdown",
   "metadata": {},
   "source": [
    "**dict的特点是：**<br>\n",
    "（1）查找和插入的速度极快，不会随着key的增加而变慢。<br>\n",
    "（2）需要占用大量内存，内存浪费多。<br>\n",
    "**list的特点是：**<br>\n",
    "（1）查找和插入时间随着元素的增加而增加。<br>\n",
    "（2）占用空间小，浪费内存很少。所以，dict是使用空间换取时间。<br>\n",
    "**提　示：**dict内部存放的顺序和键放入的顺序没有关系。"
   ]
  },
  {
   "cell_type": "markdown",
   "metadata": {},
   "source": [
    "### 5.3 字典方法"
   ]
  },
  {
   "cell_type": "markdown",
   "metadata": {},
   "source": [
    "#### 5.3.1　clear()方法"
   ]
  },
  {
   "cell_type": "markdown",
   "metadata": {},
   "source": [
    "clear()方法用于删除字典内的所有项。clear()方法的语法如下：dict.clear()此语法中，dict代表指定字典，该方法不需要参数。该函数是一个原地操作（类似于list.sort）函数，没有任何返回值（返回值为None）。"
   ]
  },
  {
   "cell_type": "code",
   "execution_count": 24,
   "metadata": {},
   "outputs": [
    {
     "name": "stdout",
     "output_type": "stream",
     "text": [
      "字典中的元素个数为：0 \n"
     ]
    }
   ],
   "source": [
    "stu = {\n",
    "    '小明':  '1001',\n",
    "    '小红': '1002',\n",
    "    '小张': '1003',\n",
    "    '王军': '1004' \n",
    "}\n",
    "stu.clear()\n",
    "print(\"字典中的元素个数为：%d \" % len(stu))"
   ]
  },
  {
   "cell_type": "code",
   "execution_count": 36,
   "metadata": {},
   "outputs": [
    {
     "data": {
      "text/plain": [
       "{'age': 10}"
      ]
     },
     "execution_count": 36,
     "metadata": {},
     "output_type": "execute_result"
    }
   ],
   "source": [
    "x = {'age': 10}\n",
    "y = x\n",
    "x = {} #重新关联到另外一个字典,这对y没有影响\n",
    "y"
   ]
  },
  {
   "cell_type": "code",
   "execution_count": 35,
   "metadata": {},
   "outputs": [
    {
     "data": {
      "text/plain": [
       "{}"
      ]
     },
     "execution_count": 35,
     "metadata": {},
     "output_type": "execute_result"
    }
   ],
   "source": [
    "x = {'age': 10}\n",
    "y = x\n",
    "x.clear() #使用clear后，y的值也被清空\n",
    "y"
   ]
  },
  {
   "cell_type": "markdown",
   "metadata": {},
   "source": [
    "#### 5.3.2　copy()方法"
   ]
  },
  {
   "cell_type": "markdown",
   "metadata": {},
   "source": [
    "copy()方法返回一个具有相同键／值对的新字典。这个方法是浅复制（shallow copy），因为值本身是相同的，而不是副本。copy()方法的语法如下：dict.copy()此语法中，dict代表指定字典，该方法不需要参数。返回结果为一个字典的浅复制。"
   ]
  },
  {
   "cell_type": "code",
   "execution_count": null,
   "metadata": {},
   "outputs": [],
   "source": []
  }
 ],
 "metadata": {
  "kernelspec": {
   "display_name": "Python 3",
   "language": "python",
   "name": "python3"
  },
  "language_info": {
   "codemirror_mode": {
    "name": "ipython",
    "version": 3
   },
   "file_extension": ".py",
   "mimetype": "text/x-python",
   "name": "python",
   "nbconvert_exporter": "python",
   "pygments_lexer": "ipython3",
   "version": "3.6.4"
  }
 },
 "nbformat": 4,
 "nbformat_minor": 2
}
